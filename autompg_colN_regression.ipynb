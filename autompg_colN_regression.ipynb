{
 "cells": [
  {
   "cell_type": "code",
   "execution_count": 1,
   "id": "f0b4017f",
   "metadata": {},
   "outputs": [
    {
     "name": "stdout",
     "output_type": "stream",
     "text": [
      "Requirement already satisfied: sklearn in c:\\python\\python36\\lib\\site-packages (0.0)\n",
      "Requirement already satisfied: scikit-learn in c:\\python\\python36\\lib\\site-packages (from sklearn) (0.24.2)\n",
      "Requirement already satisfied: joblib>=0.11 in c:\\python\\python36\\lib\\site-packages (from scikit-learn->sklearn) (1.0.1)\n",
      "Requirement already satisfied: scipy>=0.19.1 in c:\\python\\python36\\lib\\site-packages (from scikit-learn->sklearn) (1.5.4)\n",
      "Requirement already satisfied: numpy>=1.13.3 in c:\\python\\python36\\lib\\site-packages (from scikit-learn->sklearn) (1.19.5)\n",
      "Requirement already satisfied: threadpoolctl>=2.0.0 in c:\\python\\python36\\lib\\site-packages (from scikit-learn->sklearn) (2.1.0)\n"
     ]
    }
   ],
   "source": [
    "!python -m pip install sklearn"
   ]
  },
  {
   "cell_type": "code",
   "execution_count": 2,
   "id": "67f8dfd4",
   "metadata": {},
   "outputs": [],
   "source": [
    "import sklearn"
   ]
  },
  {
   "cell_type": "code",
   "execution_count": 3,
   "id": "d0bb1157",
   "metadata": {},
   "outputs": [],
   "source": [
    "%load_ext autoreload\n",
    "%autoreload 2"
   ]
  },
  {
   "cell_type": "code",
   "execution_count": 4,
   "id": "927ffd0e",
   "metadata": {},
   "outputs": [
    {
     "name": "stdout",
     "output_type": "stream",
     "text": [
      " C 드라이브의 볼륨에는 이름이 없습니다.\n",
      " 볼륨 일련 번호: 3C84-1CF3\n",
      "\n",
      " c:\\Develops\\test_machinelearning\\files 디렉터리\n",
      "\n",
      "2021-06-29  오후 04:04            21,913 auto-mpg.csv\n",
      "               1개 파일              21,913 바이트\n",
      "               0개 디렉터리  26,811,613,184 바이트 남음\n"
     ]
    }
   ],
   "source": [
    "import pandas as pd\n",
    "!dir .\\files\\auto-mpg.csv"
   ]
  },
  {
   "cell_type": "code",
   "execution_count": 5,
   "id": "f3ae1520",
   "metadata": {},
   "outputs": [
    {
     "name": "stdout",
     "output_type": "stream",
     "text": [
      "<class 'pandas.core.frame.DataFrame'>\n",
      "RangeIndex: 398 entries, 0 to 397\n",
      "Data columns (total 9 columns):\n",
      " #   Column  Non-Null Count  Dtype  \n",
      "---  ------  --------------  -----  \n",
      " 0   0       398 non-null    float64\n",
      " 1   1       398 non-null    int64  \n",
      " 2   2       398 non-null    float64\n",
      " 3   3       398 non-null    object \n",
      " 4   4       398 non-null    float64\n",
      " 5   5       398 non-null    float64\n",
      " 6   6       398 non-null    int64  \n",
      " 7   7       398 non-null    int64  \n",
      " 8   8       398 non-null    object \n",
      "dtypes: float64(4), int64(3), object(2)\n",
      "memory usage: 28.1+ KB\n"
     ]
    }
   ],
   "source": [
    "pd_data = pd.read_csv('./files/auto-mpg.csv',header=None) # header=None 헤더 제거\n",
    "pd_data.info()"
   ]
  },
  {
   "cell_type": "code",
   "execution_count": 6,
   "id": "b52b7bba",
   "metadata": {
    "scrolled": false
   },
   "outputs": [
    {
     "data": {
      "text/plain": [
       "(398, 9)"
      ]
     },
     "execution_count": 6,
     "metadata": {},
     "output_type": "execute_result"
    }
   ],
   "source": [
    "pd_data.shape"
   ]
  },
  {
   "cell_type": "markdown",
   "id": "48df41e5",
   "metadata": {},
   "source": [
    "Data 중에서 object값은 확인하고 제거해야 한다"
   ]
  },
  {
   "cell_type": "code",
   "execution_count": 7,
   "id": "f9aa5d9c",
   "metadata": {},
   "outputs": [],
   "source": [
    "pd_data.columns = ['mpg','cylinders','displacement','horsepower','weight',\n",
    "              'acceleration','model year','origin','name']\n"
   ]
  },
  {
   "cell_type": "code",
   "execution_count": 8,
   "id": "88d087e2",
   "metadata": {
    "collapsed": true
   },
   "outputs": [
    {
     "data": {
      "text/plain": [
       "(      mpg  cylinders  displacement horsepower  weight  acceleration  \\\n",
       " 0    18.0          8         307.0      130.0  3504.0          12.0   \n",
       " 1    15.0          8         350.0      165.0  3693.0          11.5   \n",
       " 2    18.0          8         318.0      150.0  3436.0          11.0   \n",
       " 3    16.0          8         304.0      150.0  3433.0          12.0   \n",
       " 4    17.0          8         302.0      140.0  3449.0          10.5   \n",
       " ..    ...        ...           ...        ...     ...           ...   \n",
       " 393  27.0          4         140.0      86.00  2790.0          15.6   \n",
       " 394  44.0          4          97.0      52.00  2130.0          24.6   \n",
       " 395  32.0          4         135.0      84.00  2295.0          11.6   \n",
       " 396  28.0          4         120.0      79.00  2625.0          18.6   \n",
       " 397  31.0          4         119.0      82.00  2720.0          19.4   \n",
       " \n",
       "      model year  origin                       name  \n",
       " 0            70       1  chevrolet chevelle malibu  \n",
       " 1            70       1          buick skylark 320  \n",
       " 2            70       1         plymouth satellite  \n",
       " 3            70       1              amc rebel sst  \n",
       " 4            70       1                ford torino  \n",
       " ..          ...     ...                        ...  \n",
       " 393          82       1            ford mustang gl  \n",
       " 394          82       2                  vw pickup  \n",
       " 395          82       1              dodge rampage  \n",
       " 396          82       1                ford ranger  \n",
       " 397          82       1                 chevy s-10  \n",
       " \n",
       " [398 rows x 9 columns],\n",
       " <bound method DataFrame.info of       mpg  cylinders  displacement horsepower  weight  acceleration  \\\n",
       " 0    18.0          8         307.0      130.0  3504.0          12.0   \n",
       " 1    15.0          8         350.0      165.0  3693.0          11.5   \n",
       " 2    18.0          8         318.0      150.0  3436.0          11.0   \n",
       " 3    16.0          8         304.0      150.0  3433.0          12.0   \n",
       " 4    17.0          8         302.0      140.0  3449.0          10.5   \n",
       " ..    ...        ...           ...        ...     ...           ...   \n",
       " 393  27.0          4         140.0      86.00  2790.0          15.6   \n",
       " 394  44.0          4          97.0      52.00  2130.0          24.6   \n",
       " 395  32.0          4         135.0      84.00  2295.0          11.6   \n",
       " 396  28.0          4         120.0      79.00  2625.0          18.6   \n",
       " 397  31.0          4         119.0      82.00  2720.0          19.4   \n",
       " \n",
       "      model year  origin                       name  \n",
       " 0            70       1  chevrolet chevelle malibu  \n",
       " 1            70       1          buick skylark 320  \n",
       " 2            70       1         plymouth satellite  \n",
       " 3            70       1              amc rebel sst  \n",
       " 4            70       1                ford torino  \n",
       " ..          ...     ...                        ...  \n",
       " 393          82       1            ford mustang gl  \n",
       " 394          82       2                  vw pickup  \n",
       " 395          82       1              dodge rampage  \n",
       " 396          82       1                ford ranger  \n",
       " 397          82       1                 chevy s-10  \n",
       " \n",
       " [398 rows x 9 columns]>)"
      ]
     },
     "execution_count": 8,
     "metadata": {},
     "output_type": "execute_result"
    }
   ],
   "source": [
    "pd_data , pd_data.info"
   ]
  },
  {
   "cell_type": "markdown",
   "id": "a4536597",
   "metadata": {},
   "source": [
    "x축과 y축을 어떤값을 선정할것인지 요구에 따라 선택해야 한다"
   ]
  },
  {
   "cell_type": "code",
   "execution_count": 9,
   "id": "766622b2",
   "metadata": {},
   "outputs": [],
   "source": [
    "x = pd_data[['weight','cylinders' ]]"
   ]
  },
  {
   "cell_type": "code",
   "execution_count": 10,
   "id": "48fec1cf",
   "metadata": {},
   "outputs": [],
   "source": [
    "y = pd_data[['mpg']]"
   ]
  },
  {
   "cell_type": "code",
   "execution_count": 11,
   "id": "20a3cd4e",
   "metadata": {},
   "outputs": [
    {
     "data": {
      "text/plain": [
       "((398, 2), (398, 1))"
      ]
     },
     "execution_count": 11,
     "metadata": {},
     "output_type": "execute_result"
    }
   ],
   "source": [
    "x.shape , y.shape"
   ]
  },
  {
   "cell_type": "code",
   "execution_count": 12,
   "id": "efa819f0",
   "metadata": {},
   "outputs": [],
   "source": [
    "from sklearn.model_selection import train_test_split"
   ]
  },
  {
   "cell_type": "code",
   "execution_count": 13,
   "id": "01d002a9",
   "metadata": {},
   "outputs": [
    {
     "data": {
      "text/plain": [
       "((298, 2), (100, 2), (298, 1), (100, 1))"
      ]
     },
     "execution_count": 13,
     "metadata": {},
     "output_type": "execute_result"
    }
   ],
   "source": [
    "X_train , X_test , Y_train , Y_test  = train_test_split(x,y) # 순서 반드시 지켜야 함\n",
    "X_train.shape , X_test.shape , Y_train.shape , Y_test.shape"
   ]
  },
  {
   "cell_type": "code",
   "execution_count": 14,
   "id": "14707e74",
   "metadata": {},
   "outputs": [],
   "source": [
    "from sklearn.linear_model import LinearRegression"
   ]
  },
  {
   "cell_type": "code",
   "execution_count": 15,
   "id": "579d085b",
   "metadata": {},
   "outputs": [],
   "source": [
    "lr = LinearRegression()"
   ]
  },
  {
   "cell_type": "markdown",
   "id": "0e6a4f86",
   "metadata": {},
   "source": [
    "https://scikit-learn.org/stable/modules/generated/sklearn.linear_model.LinearRegression.html"
   ]
  },
  {
   "cell_type": "code",
   "execution_count": 16,
   "id": "263d3032",
   "metadata": {},
   "outputs": [
    {
     "data": {
      "text/plain": [
       "LinearRegression()"
      ]
     },
     "execution_count": 16,
     "metadata": {},
     "output_type": "execute_result"
    }
   ],
   "source": [
    "# lr.fit(x,y)\n",
    "lr.fit( X_train , Y_train)\n",
    "\n",
    "lr.fit( X_test , Y_test)"
   ]
  },
  {
   "cell_type": "code",
   "execution_count": 17,
   "id": "d9109203",
   "metadata": {
    "scrolled": true
   },
   "outputs": [
    {
     "data": {
      "text/plain": [
       "(array([[-0.00702565, -0.90697114]]), array([49.36764508]))"
      ]
     },
     "execution_count": 17,
     "metadata": {},
     "output_type": "execute_result"
    }
   ],
   "source": [
    "# total data\n",
    "lr.coef_ , lr.intercept_  # lr.coef_ x의 붙는 숫자 , lr.intercept_ 는 더해지는 숫자"
   ]
  },
  {
   "cell_type": "code",
   "execution_count": 18,
   "id": "a250f77c",
   "metadata": {},
   "outputs": [
    {
     "data": {
      "text/plain": [
       "(array([[-0.00702565, -0.90697114]]), array([49.36764508]))"
      ]
     },
     "execution_count": 18,
     "metadata": {},
     "output_type": "execute_result"
    }
   ],
   "source": [
    "# split data with 1 column\n",
    "lr.coef_ , lr.intercept_"
   ]
  },
  {
   "cell_type": "markdown",
   "id": "8e8044ae",
   "metadata": {},
   "source": [
    " y = -0.00767661x + 46.31736442"
   ]
  },
  {
   "cell_type": "code",
   "execution_count": 19,
   "id": "d229cdd5",
   "metadata": {},
   "outputs": [
    {
     "data": {
      "text/plain": [
       "0.684682845419647"
      ]
     },
     "execution_count": 19,
     "metadata": {},
     "output_type": "execute_result"
    }
   ],
   "source": [
    "lr.score(x,y) # check with total data"
   ]
  },
  {
   "cell_type": "code",
   "execution_count": 20,
   "id": "e16c00e1",
   "metadata": {
    "scrolled": false
   },
   "outputs": [
    {
     "data": {
      "text/plain": [
       "0.6618738072458779"
      ]
     },
     "execution_count": 20,
     "metadata": {},
     "output_type": "execute_result"
    }
   ],
   "source": [
    "lr.score(X_train,Y_train) # check with a part train data"
   ]
  },
  {
   "cell_type": "code",
   "execution_count": 21,
   "id": "0fb53200",
   "metadata": {},
   "outputs": [
    {
     "data": {
      "text/plain": [
       "0.7451208890413907"
      ]
     },
     "execution_count": 21,
     "metadata": {},
     "output_type": "execute_result"
    }
   ],
   "source": [
    "lr.score(X_test,Y_test) # check with a part train data"
   ]
  },
  {
   "cell_type": "code",
   "execution_count": 23,
   "id": "c0287c00",
   "metadata": {},
   "outputs": [
    {
     "data": {
      "text/plain": [
       "array([[17.49400561]])"
      ]
     },
     "execution_count": 23,
     "metadata": {},
     "output_type": "execute_result"
    }
   ],
   "source": [
    "lr.predict([[3504.0,8]]) # weight -> cylinders"
   ]
  },
  {
   "cell_type": "code",
   "execution_count": 25,
   "id": "603bac85",
   "metadata": {},
   "outputs": [
    {
     "data": {
      "text/plain": [
       "array([[26.13820279]])"
      ]
     },
     "execution_count": 25,
     "metadata": {},
     "output_type": "execute_result"
    }
   ],
   "source": [
    "lr.predict([[2790.0,4]]) # 변수를 넣고 답을 예측"
   ]
  },
  {
   "cell_type": "code",
   "execution_count": 26,
   "id": "6eaa7949",
   "metadata": {},
   "outputs": [
    {
     "data": {
      "text/plain": [
       "sklearn.linear_model._base.LinearRegression"
      ]
     },
     "execution_count": 26,
     "metadata": {},
     "output_type": "execute_result"
    }
   ],
   "source": [
    "type(lr)"
   ]
  },
  {
   "cell_type": "code",
   "execution_count": 27,
   "id": "a20b7e75",
   "metadata": {},
   "outputs": [],
   "source": [
    "import pickle"
   ]
  },
  {
   "cell_type": "code",
   "execution_count": 34,
   "id": "a4c5de65",
   "metadata": {},
   "outputs": [],
   "source": [
    "pickle.dump(lr,open('./saves/autompg_lr.pkl','wb'))"
   ]
  },
  {
   "cell_type": "code",
   "execution_count": 35,
   "id": "b03df4c0",
   "metadata": {},
   "outputs": [
    {
     "name": "stdout",
     "output_type": "stream",
     "text": [
      " C 드라이브의 볼륨에는 이름이 없습니다.\n",
      " 볼륨 일련 번호: 3C84-1CF3\n",
      "\n",
      " c:\\Develops\\test_machinelearning\\saves 디렉터리\n",
      "\n",
      "2021-06-30  오후 02:32    <DIR>          .\n",
      "2021-06-30  오후 02:32    <DIR>          ..\n",
      "2021-06-30  오후 02:32               584 autompg.pkl\n",
      "2021-06-30  오후 02:32               584 autompg_lr.pkl\n",
      "               2개 파일               1,168 바이트\n",
      "               2개 디렉터리  26,782,834,688 바이트 남음\n"
     ]
    }
   ],
   "source": [
    "!dir .\\saves"
   ]
  },
  {
   "cell_type": "code",
   "execution_count": 38,
   "id": "ec3da524",
   "metadata": {},
   "outputs": [
    {
     "data": {
      "text/plain": [
       "(298, 1)"
      ]
     },
     "execution_count": 38,
     "metadata": {},
     "output_type": "execute_result"
    }
   ],
   "source": [
    "y_predict = lr.predict(X_train)\n",
    "y_predict.shape"
   ]
  },
  {
   "cell_type": "code",
   "execution_count": null,
   "id": "e4e037e7",
   "metadata": {},
   "outputs": [],
   "source": []
  }
 ],
 "metadata": {
  "kernelspec": {
   "display_name": "Python 3",
   "language": "python",
   "name": "python3"
  },
  "language_info": {
   "codemirror_mode": {
    "name": "ipython",
    "version": 3
   },
   "file_extension": ".py",
   "mimetype": "text/x-python",
   "name": "python",
   "nbconvert_exporter": "python",
   "pygments_lexer": "ipython3",
   "version": "3.6.4"
  }
 },
 "nbformat": 4,
 "nbformat_minor": 5
}
