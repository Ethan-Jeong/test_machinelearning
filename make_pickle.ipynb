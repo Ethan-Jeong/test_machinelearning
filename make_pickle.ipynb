{
 "cells": [
  {
   "cell_type": "code",
   "execution_count": 1,
   "id": "6cf7604e",
   "metadata": {},
   "outputs": [],
   "source": [
    "import pickle"
   ]
  },
  {
   "cell_type": "code",
   "execution_count": 2,
   "id": "b987c797",
   "metadata": {},
   "outputs": [],
   "source": [
    "favorite = {'lion':'yellow','tiger':'red'}"
   ]
  },
  {
   "cell_type": "code",
   "execution_count": 5,
   "id": "80f1bda2",
   "metadata": {},
   "outputs": [],
   "source": [
    "# as machine learning, favorite --> model variable\n",
    "# 확장자 선택 가능하지만 통상적으로 pkl 로 저장함 ,wb 는 권한\n",
    "pickle.dump(favorite, open('./favorite_save.pkl' , 'wb') ) "
   ]
  },
  {
   "cell_type": "code",
   "execution_count": 6,
   "id": "401967ce",
   "metadata": {},
   "outputs": [
    {
     "name": "stdout",
     "output_type": "stream",
     "text": [
      " C 드라이브의 볼륨에는 이름이 없습니다.\n",
      " 볼륨 일련 번호: 3C84-1CF3\n",
      "\n",
      " c:\\Develops\\test_machinelearning 디렉터리\n",
      "\n",
      "2021-06-30  오후 02:17    <DIR>          .\n",
      "2021-06-30  오후 02:17    <DIR>          ..\n",
      "2021-06-29  오후 03:37             1,928 .gitignore\n",
      "2021-06-30  오전 09:24    <DIR>          .idea\n",
      "2021-06-30  오후 02:06    <DIR>          .ipynb_checkpoints\n",
      "2021-06-30  오전 09:32            15,666 autompg_col1_regression.ipynb\n",
      "2021-06-30  오후 02:06            14,218 autompg_colN_regression.ipynb\n",
      "2021-06-30  오후 02:17                54 favorite_save.pkl\n",
      "2021-06-29  오후 04:04    <DIR>          files\n",
      "2021-06-29  오후 03:37            11,558 LICENSE\n",
      "2021-06-30  오후 02:16             2,703 make_pickle.ipynb\n",
      "2021-06-29  오후 03:37                22 README.md\n",
      "               7개 파일              46,149 바이트\n",
      "               5개 디렉터리  26,786,091,008 바이트 남음\n"
     ]
    }
   ],
   "source": [
    "!dir"
   ]
  },
  {
   "cell_type": "markdown",
   "id": "684203c1",
   "metadata": {},
   "source": [
    "파일 모드 종류\n",
    "\n",
    "r - 읽기모드 (디폴트)\n",
    "\n",
    "w - 쓰기모드, 파일이 있으면 모든 내용을 삭제\n",
    "\n",
    "x - 쓰기모드, 파일이 있으면 오류 발생\n",
    "\n",
    "a - 쓰기모드, 파일이 있으면 뒤에 내용을 추가\n",
    "\n",
    "+ - 읽기쓰기모드\n",
    "\n",
    "t - 텍스트 모드, 텍스트 문자 기록에 사용 (디폴트)\n",
    "\n",
    "b - 바이너리 모드, 바이트단위 데이터 기록에 사용\n",
    "\n",
    "\n",
    "\n",
    "파일 모드 사용예\n",
    "\n",
    "f = open('file.txt', 'rt')\n",
    "\n",
    "기본값으로 텍스트 읽기모드 (rt는 생략 가능)\n",
    "\n",
    "f = open('file.txt', 'wb')\n",
    "\n",
    "바이너리 쓰기모드\n",
    "\n",
    "f = open('file.txt', 'r+t')\n",
    "\n",
    "텍스트 읽기쓰기모드, 맨 앞에서부터 내용을 덮어쓴다. \n",
    "\n",
    "(파일이 없으면 오류 발생)\n",
    "\n",
    "f = open('file.txt', 'w+t')\n",
    "\n",
    "텍스트 읽기쓰기모드, 파일 내용을 다 지우고 다시 쓴다.\n",
    "\n",
    "f = open('file.txt', 'a+t')\n",
    "\n",
    "텍스트 읽기쓰기모드, 파일의 모든 내용을 남겨두고 맨 뒤에서부터 쓴다.\n",
    "\n",
    "\n",
    "\n",
    "+가 포함된 파일모드는 모두 읽기쓰기모드이지만 기존 파일 내용을 처리하는 방식에 차이가 있다."
   ]
  }
 ],
 "metadata": {
  "kernelspec": {
   "display_name": "Python 3",
   "language": "python",
   "name": "python3"
  },
  "language_info": {
   "codemirror_mode": {
    "name": "ipython",
    "version": 3
   },
   "file_extension": ".py",
   "mimetype": "text/x-python",
   "name": "python",
   "nbconvert_exporter": "python",
   "pygments_lexer": "ipython3",
   "version": "3.6.4"
  }
 },
 "nbformat": 4,
 "nbformat_minor": 5
}
