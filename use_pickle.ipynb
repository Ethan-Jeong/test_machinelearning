{
 "cells": [
  {
   "cell_type": "code",
   "execution_count": 1,
   "id": "1a960fd5",
   "metadata": {},
   "outputs": [],
   "source": [
    "import pickle"
   ]
  },
  {
   "cell_type": "code",
   "execution_count": 2,
   "id": "30baf16d",
   "metadata": {},
   "outputs": [
    {
     "name": "stdout",
     "output_type": "stream",
     "text": [
      " C 드라이브의 볼륨에는 이름이 없습니다.\n",
      " 볼륨 일련 번호: 3C84-1CF3\n",
      "\n",
      " c:\\Develops\\test_machinelearning 디렉터리\n",
      "\n",
      "2021-06-30  오후 02:19    <DIR>          .\n",
      "2021-06-30  오후 02:19    <DIR>          ..\n",
      "2021-06-29  오후 03:37             1,928 .gitignore\n",
      "2021-06-30  오전 09:24    <DIR>          .idea\n",
      "2021-06-30  오후 02:19    <DIR>          .ipynb_checkpoints\n",
      "2021-06-30  오전 09:32            15,666 autompg_col1_regression.ipynb\n",
      "2021-06-30  오후 02:06            14,218 autompg_colN_regression.ipynb\n",
      "2021-06-30  오후 02:17                54 favorite_save.pkl\n",
      "2021-06-29  오후 04:04    <DIR>          files\n",
      "2021-06-29  오후 03:37            11,558 LICENSE\n",
      "2021-06-30  오후 02:19                72 load_pickle.ipynb\n",
      "2021-06-30  오후 02:18             4,096 make_pickle.ipynb\n",
      "2021-06-29  오후 03:37                22 README.md\n",
      "               8개 파일              47,614 바이트\n",
      "               5개 디렉터리  26,785,206,272 바이트 남음\n"
     ]
    }
   ],
   "source": [
    "!dir"
   ]
  },
  {
   "cell_type": "code",
   "execution_count": 5,
   "id": "3ad17d1c",
   "metadata": {},
   "outputs": [
    {
     "data": {
      "text/plain": [
       "({'lion': 'yellow', 'tiger': 'red'}, dict)"
      ]
     },
     "execution_count": 5,
     "metadata": {},
     "output_type": "execute_result"
    }
   ],
   "source": [
    "favorite_load = pickle.load(open('./favorite_save.pkl','rb'))\n",
    "favorite_load , type(favorite_load)"
   ]
  },
  {
   "cell_type": "code",
   "execution_count": 6,
   "id": "5bb0828a",
   "metadata": {},
   "outputs": [
    {
     "data": {
      "text/plain": [
       "'red'"
      ]
     },
     "execution_count": 6,
     "metadata": {},
     "output_type": "execute_result"
    }
   ],
   "source": [
    "favorite_load['tiger']"
   ]
  },
  {
   "cell_type": "code",
   "execution_count": 12,
   "id": "675e283c",
   "metadata": {},
   "outputs": [],
   "source": [
    "autompg_lr = pickle.load(open('./saves/autompg_lr.pkl','rb'))"
   ]
  },
  {
   "cell_type": "code",
   "execution_count": 13,
   "id": "de47e338",
   "metadata": {},
   "outputs": [
    {
     "data": {
      "text/plain": [
       "sklearn.linear_model._base.LinearRegression"
      ]
     },
     "execution_count": 13,
     "metadata": {},
     "output_type": "execute_result"
    }
   ],
   "source": [
    "type(autompg_lr)"
   ]
  },
  {
   "cell_type": "code",
   "execution_count": 14,
   "id": "ab8acd82",
   "metadata": {},
   "outputs": [
    {
     "data": {
      "text/plain": [
       "array([[17.49400561]])"
      ]
     },
     "execution_count": 14,
     "metadata": {},
     "output_type": "execute_result"
    }
   ],
   "source": [
    "autompg_lr.predict([[3504.0,8]])"
   ]
  },
  {
   "cell_type": "code",
   "execution_count": null,
   "id": "09d2024e",
   "metadata": {},
   "outputs": [],
   "source": []
  }
 ],
 "metadata": {
  "kernelspec": {
   "display_name": "Python 3",
   "language": "python",
   "name": "python3"
  },
  "language_info": {
   "codemirror_mode": {
    "name": "ipython",
    "version": 3
   },
   "file_extension": ".py",
   "mimetype": "text/x-python",
   "name": "python",
   "nbconvert_exporter": "python",
   "pygments_lexer": "ipython3",
   "version": "3.6.4"
  }
 },
 "nbformat": 4,
 "nbformat_minor": 5
}
